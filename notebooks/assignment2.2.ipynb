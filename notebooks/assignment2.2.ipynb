{
 "cells": [
  {
   "cell_type": "markdown",
   "metadata": {},
   "source": [
    "# A2: Gesture Recognizer\n",
    "\n",
    "## Notebook Layout\n",
    "1. Setup: imports, definitions, and classes"
   ]
  },
  {
   "cell_type": "code",
   "execution_count": 1,
   "metadata": {},
   "outputs": [],
   "source": [
    "# This cell includes all imports and global definitions for this notebook.\n",
    "# It should be run prior to any of the other cells.\n",
    "\n",
    "import copy\n",
    "import itertools\n",
    "import ntpath\n",
    "import os\n",
    "import random\n",
    "import sys\n",
    "\n",
    "import ipywidgets\n",
    "import matplotlib.pyplot as plt # needed for plotting\n",
    "import numpy as np # numpy is primary library for numeric array (and matrix) handling\n",
    "import scipy\n",
    "\n",
    "from scipy import signal\n",
    "\n",
    "from sklearn.metrics import confusion_matrix\n",
    "from sklearn import preprocessing\n",
    "\n",
    "\n",
    "# Each accelerometer and gyroscope log file gets parsed and made into a SensorData object\n",
    "class SensorData:\n",
    "    \n",
    "    # Constructors in Python look like this (strangely enough)\n",
    "    # All arguments are numpy arrays except sensorType, which is a str\n",
    "    def __init__(self, sensorType, currentTimeMs, sensorTimestampNano, x, y, z):\n",
    "        self.sensorType = sensorType\n",
    "        \n",
    "        # On my mac, I could cast as straight-up int but on Windows, this failed\n",
    "        # This is because on Windows, a long is 32 bit but on Unix, a long is 64bit\n",
    "        # So, forcing to int64 to be safe. See: https://stackoverflow.com/q/38314118\n",
    "        self.currentTimeMs = currentTimeMs.astype(np.int64)\n",
    "        self.sensorTimestampNano = sensorTimestampNano.astype(np.int64)\n",
    "        \n",
    "        self.x = x.astype(float)\n",
    "        self.y = y.astype(float)\n",
    "        self.z = z.astype(float)\n",
    "   \n",
    "        xSquared = np.multiply(self.x , self.x)\n",
    "        ySquared = np.multiply(self.y, self.y)\n",
    "        zSquared = np.multiply(self.z, self.z)\n",
    "        self.mag = np.sqrt(np.add(xSquared, ySquared, zSquared))\n",
    "        \n",
    "    # Returns a dict of numpy arrays\n",
    "    def get_data(self):\n",
    "        return {\"x\":self.x, \"y\":self.y, \"z\":self.z, \"mag\":self.mag}\n",
    "    \n",
    "    # Pads the end of each data array with zeroes. Throws exception\n",
    "    # if newArrayLength smaller than the current data array (and thus nothing to pad)\n",
    "    def pad_with_zeros(self, newArrayLength):\n",
    "        arrayLengthDiff = newArrayLength - len(self.x)\n",
    "        if arrayLengthDiff < 0:\n",
    "            raise ValueError(\"New array length '{}' must be larger than current array length '{}\".\n",
    "                             format(newArrayLength, len(self.x)))\n",
    "        \n",
    "        # np.pad allows us to pad either the left side, right side, or both sides of an array\n",
    "        # in this case, we are padding only the right side. See: https://docs.scipy.org/doc/numpy/reference/generated/numpy.pad.html\n",
    "        self.x = np.pad(self.x, (0, arrayLengthDiff), 'constant', constant_values=0)\n",
    "        self.y = np.pad(self.y, (0, arrayLengthDiff), 'constant', constant_values=0)\n",
    "        self.z = np.pad(self.z, (0, arrayLengthDiff), 'constant', constant_values=0)\n",
    "        self.mag = np.pad(self.mag, (0, arrayLengthDiff), 'constant', constant_values=0)\n",
    "\n",
    "# A trial is one gesture recording and includes an accel SensorData object and a gyro SensorData object\n",
    "class Trial:\n",
    "    \n",
    "    # We actually parse the sensor log files in the constructor--this is probably bad practice\n",
    "    # But offers a relatively clean solution\n",
    "    def __init__(self, gestureName, endTimeMs, trialNum, accelLogFilenameWithPath, gyroLogFilenameWithPath):\n",
    "        self.gestureName = gestureName\n",
    "        self.trialNum = trialNum\n",
    "        self.endTimeMs = endTimeMs\n",
    "        self.accelLogFilenameWithPath = accelLogFilenameWithPath\n",
    "        self.gyroLogFilenameWithPath = gyroLogFilenameWithPath\n",
    "        \n",
    "        # unpack=True puts each column in its own array, see https://stackoverflow.com/a/20245874\n",
    "        # I had to force all types to strings because auto-type inferencing failed\n",
    "        parsedAccelLogData = np.genfromtxt(accelLogFilenameWithPath, delimiter=',', \n",
    "                              dtype=str, encoding=None, skip_header=1, unpack=True)\n",
    "        \n",
    "        # The asterisk is really cool in Python. It allows us to \"unpack\" this variable\n",
    "        # into arguments needed for the SensorData constructor. Google for \"tuple unpacking\"\n",
    "        self.accel = SensorData(\"Accelerometer\", *parsedAccelLogData[1:])\n",
    "        \n",
    "        parsedGyroLogData = np.genfromtxt(gyroLogFilenameWithPath, delimiter=',', \n",
    "                              dtype=str, encoding=None, skip_header=1, unpack=True)\n",
    "        \n",
    "        self.gyro = SensorData(\"Gyroscope\", *parsedGyroLogData[1:])\n",
    "            \n",
    "    # Utility function that returns the end time as a nice string\n",
    "    def getEndTimeMsAsString(self):\n",
    "        return time.strftime('%Y-%m-%d %H:%M:%S', time.localtime(self.endTimeMs / 1000))\n",
    "    \n",
    "# This cell contains our file handling and parsing related functions\n",
    "\n",
    "\n",
    "# Returns all csv filenames in the given directory\n",
    "def find_csv_filenames( path_to_dir, suffix=\".csv\" ):\n",
    "    filenames = os.listdir(path_to_dir)\n",
    "    return [ filename for filename in filenames if filename.endswith( suffix ) ]\n",
    "\n",
    "# Parses and creates Trial objects for all csv files in the given dir\n",
    "# Returns a dict() mapping (str: gestureName) to (list: Trial objects)\n",
    "def parse_and_create_gesture_trials( path_to_dir ):\n",
    "    csvFilenames = find_csv_filenames(path_to_dir)\n",
    "    \n",
    "    print(\"Found {} csv files in {}\".format(len(csvFilenames), path_to_dir))\n",
    "    \n",
    "    mapGestureNameToTrialList = dict()\n",
    "    mapGestureNameToMapEndTimeMsToMapSensorToFile = dict()\n",
    "    for csvFilename in csvFilenames:\n",
    "        # parse filename into meaningful parts\n",
    "        filenameNoExt = os.path.splitext(csvFilename)[0];\n",
    "        filenameParts = filenameNoExt.split(\"_\")\n",
    "        gestureName = '{}_{}'.format(os.path.basename(path_to_dir), filenameParts[0])\n",
    "        sensorName = filenameParts[1]\n",
    "        timeMs = int(filenameParts[2])\n",
    "        \n",
    "        # print(\"gestureName={} sensorName={} timeMs={}\".format(gestureName, sensorName, timeMs))\n",
    "        \n",
    "        if gestureName not in mapGestureNameToMapEndTimeMsToMapSensorToFile:\n",
    "            mapGestureNameToMapEndTimeMsToMapSensorToFile[gestureName] = dict()\n",
    "        \n",
    "        if timeMs not in mapGestureNameToMapEndTimeMsToMapSensorToFile[gestureName]:\n",
    "            mapGestureNameToMapEndTimeMsToMapSensorToFile[gestureName][timeMs] = dict()\n",
    "        \n",
    "        mapGestureNameToMapEndTimeMsToMapSensorToFile[gestureName][timeMs][sensorName] = csvFilename\n",
    "        # print (mapGestureNameToMapEndTimeMsToMapSensorToFile)\n",
    "    \n",
    "    print(\"Found {} gestures\".format(len(mapGestureNameToMapEndTimeMsToMapSensorToFile)))\n",
    "    \n",
    "    # track the longest array so we can resize accordingly (by padding with zeros currently)\n",
    "    maxArrayLength = -1\n",
    "    trialWithMostSensorEvents = None\n",
    "    \n",
    "    # Now we need to loop through the data and sort each gesture set by timems values \n",
    "    # (so that we have trial 1, 2, 3, etc.)\n",
    "    for gestureName, mapEndTimeMsToMapSensorToFile in mapGestureNameToMapEndTimeMsToMapSensorToFile.items():\n",
    "        gestureTrialNum = 0\n",
    "        mapGestureNameToTrialList[gestureName] = list()\n",
    "        for endTimeMs in sorted(mapEndTimeMsToMapSensorToFile.keys()):\n",
    "            mapSensorToFile = mapEndTimeMsToMapSensorToFile[endTimeMs]\n",
    "            \n",
    "            accelFilenameWithPath = os.path.join(path_to_dir, mapSensorToFile[\"Accelerometer\"])\n",
    "            gyroFilenameWithPath = os.path.join(path_to_dir, mapSensorToFile[\"Gyroscope\"])\n",
    "            \n",
    "            gestureTrial = Trial(gestureName, endTimeMs, gestureTrialNum, accelFilenameWithPath, gyroFilenameWithPath)\n",
    "            mapGestureNameToTrialList[gestureName].append(gestureTrial)\n",
    "            \n",
    "            for sample in [\n",
    "                gestureTrial.accel.x, gestureTrial.accel.y, gestureTrial.accel.z,\n",
    "                gestureTrial.gyro.x, gestureTrial.gyro.y, gestureTrial.gyro.z]:\n",
    "                if maxArrayLength < len(sample):\n",
    "                    maxArrayLength = len(sample)\n",
    "                    print(maxArrayLength)\n",
    "                    trialWithMostSensorEvents = gestureTrial           \n",
    "            gestureTrialNum = gestureTrialNum + 1\n",
    "        \n",
    "        print(\"Found {} trials for '{}'\".format(len(mapGestureNameToTrialList[gestureName]), gestureName))\n",
    "    \n",
    "    # Some basic preprocessing\n",
    "    # Resize arrays so everything is same length (necessary for shape matching) \n",
    "    print(\"Max trial length across all gesture is '{}' Trial {} with {} sensor events. Resizing all arrays to match\".\n",
    "          format(trialWithMostSensorEvents.gestureName, trialWithMostSensorEvents.trialNum, maxArrayLength))\n",
    "    for gestureName, trialList in mapGestureNameToTrialList.items():\n",
    "        for trial in trialList: \n",
    "            trial.accel.pad_with_zeros(maxArrayLength)\n",
    "            trial.gyro.pad_with_zeros(maxArrayLength)\n",
    "          \n",
    "    return mapGestureNameToTrialList\n",
    "        \n",
    "# Returns the leafs in a path\n",
    "# From: https://stackoverflow.com/a/8384788\n",
    "def path_leaf(path):\n",
    "    head, tail = ntpath.split(path)\n",
    "    return tail or ntpath.basename(head)\n",
    "\n",
    "# Utility function to extract gesture name from filename\n",
    "def extract_gesture_name( filename ):\n",
    "    # leaf = path_leaf(filename)\n",
    "    tokenSplitPos = filename.index('_')\n",
    "    gestureName = filename[:tokenSplitPos]\n",
    "    return gestureName\n",
    "\n",
    "# Returns the minimum number of trials across all gestures (just in case we accidentally recorded a \n",
    "# different number. We should have 5 or 10 each for the A2 assignment)\n",
    "def get_min_num_of_trials( mapGestureToTrials ):\n",
    "    minNumTrials = -1 \n",
    "    for gestureName, trialSet in mapGestureToTrials.items():\n",
    "        if minNumTrials == -1 or minNumTrials > len(trialSet):\n",
    "            minNumTrials = len(trialSet)\n",
    "    return minNumTrials"
   ]
  },
  {
   "cell_type": "code",
   "execution_count": 2,
   "metadata": {},
   "outputs": [
    {
     "name": "stdout",
     "output_type": "stream",
     "text": [
      "Found 100 csv files in ./JonGestureLogs\n",
      "Found 10 gestures\n",
      "100\n",
      "101\n",
      "107\n",
      "Found 5 trials for 'JonGestureLogs_Forehand Tennis'\n",
      "119\n",
      "Found 5 trials for 'JonGestureLogs_Midair Zorro Z'\n",
      "Found 5 trials for 'JonGestureLogs_Midair S'\n",
      "243\n",
      "323\n",
      "Found 5 trials for 'JonGestureLogs_At Rest'\n",
      "Found 5 trials for 'JonGestureLogs_Midair Counter Clockwise O'\n",
      "Found 5 trials for 'JonGestureLogs_Midair Clockwise O'\n",
      "Found 5 trials for 'JonGestureLogs_Underhand Bowling'\n",
      "Found 5 trials for 'JonGestureLogs_Backhand Tennis'\n",
      "Found 5 trials for 'JonGestureLogs_Shake'\n",
      "Found 5 trials for 'JonGestureLogs_Baseball Throw'\n",
      "Max trial length across all gesture is 'JonGestureLogs_At Rest' Trial 3 with 323 sensor events. Resizing all arrays to match\n"
     ]
    }
   ],
   "source": [
    "# Load the data\n",
    "\n",
    "jonTrials = parse_and_create_gesture_trials('./JonGestureLogs')\n",
    "#myTrials = parse_and_create_gesture_trials('./gesture_data')\n",
    "\n",
    "mapGestureToTrials = copy.copy(jonTrials)\n",
    "#mapGestureToTrials.update(myTrials)"
   ]
  },
  {
   "cell_type": "markdown",
   "metadata": {},
   "source": [
    "## Visualization\n",
    "\n",
    "To make visualizing a given task easier, we use a dropdown menu to select the gesture we're attempting to debug.  For convenience, two drop downs are available for comparing gestures side-by-side."
   ]
  },
  {
   "cell_type": "code",
   "execution_count": 3,
   "metadata": {
    "scrolled": false
   },
   "outputs": [
    {
     "data": {
      "application/vnd.jupyter.widget-view+json": {
       "model_id": "14d0c5ecd40c4fddb73e6ed42269e6ee",
       "version_major": 2,
       "version_minor": 0
      },
      "text/html": [
       "<p>Failed to display Jupyter Widget of type <code>interactive</code>.</p>\n",
       "<p>\n",
       "  If you're reading this message in the Jupyter Notebook or JupyterLab Notebook, it may mean\n",
       "  that the widgets JavaScript is still loading. If this message persists, it\n",
       "  likely means that the widgets JavaScript library is either not installed or\n",
       "  not enabled. See the <a href=\"https://ipywidgets.readthedocs.io/en/stable/user_install.html\">Jupyter\n",
       "  Widgets Documentation</a> for setup instructions.\n",
       "</p>\n",
       "<p>\n",
       "  If you're reading this message in another frontend (for example, a static\n",
       "  rendering on GitHub or <a href=\"https://nbviewer.jupyter.org/\">NBViewer</a>),\n",
       "  it may mean that your frontend doesn't currently support widgets.\n",
       "</p>\n"
      ],
      "text/plain": [
       "interactive(children=(Dropdown(description='gestureName', options=('JonGestureLogs_At Rest', 'JonGestureLogs_Backhand Tennis', 'JonGestureLogs_Baseball Throw', 'JonGestureLogs_Forehand Tennis', 'JonGestureLogs_Midair Clockwise O', 'JonGestureLogs_Midair Counter Clockwise O', 'JonGestureLogs_Midair S', 'JonGestureLogs_Midair Zorro Z', 'JonGestureLogs_Shake', 'JonGestureLogs_Underhand Bowling'), value='JonGestureLogs_At Rest'), Output()), _dom_classes=('widget-interact',))"
      ]
     },
     "metadata": {},
     "output_type": "display_data"
    },
    {
     "data": {
      "application/vnd.jupyter.widget-view+json": {
       "model_id": "324bb506b49444eca38fb2e82f91a890",
       "version_major": 2,
       "version_minor": 0
      },
      "text/html": [
       "<p>Failed to display Jupyter Widget of type <code>interactive</code>.</p>\n",
       "<p>\n",
       "  If you're reading this message in the Jupyter Notebook or JupyterLab Notebook, it may mean\n",
       "  that the widgets JavaScript is still loading. If this message persists, it\n",
       "  likely means that the widgets JavaScript library is either not installed or\n",
       "  not enabled. See the <a href=\"https://ipywidgets.readthedocs.io/en/stable/user_install.html\">Jupyter\n",
       "  Widgets Documentation</a> for setup instructions.\n",
       "</p>\n",
       "<p>\n",
       "  If you're reading this message in another frontend (for example, a static\n",
       "  rendering on GitHub or <a href=\"https://nbviewer.jupyter.org/\">NBViewer</a>),\n",
       "  it may mean that your frontend doesn't currently support widgets.\n",
       "</p>\n"
      ],
      "text/plain": [
       "interactive(children=(Dropdown(description='gestureName', options=('JonGestureLogs_At Rest', 'JonGestureLogs_Backhand Tennis', 'JonGestureLogs_Baseball Throw', 'JonGestureLogs_Forehand Tennis', 'JonGestureLogs_Midair Clockwise O', 'JonGestureLogs_Midair Counter Clockwise O', 'JonGestureLogs_Midair S', 'JonGestureLogs_Midair Zorro Z', 'JonGestureLogs_Shake', 'JonGestureLogs_Underhand Bowling'), value='JonGestureLogs_At Rest'), Output()), _dom_classes=('widget-interact',))"
      ]
     },
     "metadata": {},
     "output_type": "display_data"
    }
   ],
   "source": [
    "def DisplayDebugAccelVisualization(gestureName):\n",
    "    fig, axes = plt.subplots(nrows=2, ncols=4, figsize=(25, 10))\n",
    "    fig.subplots_adjust(hspace=0.5)\n",
    "\n",
    "    gestureTrials = mapGestureToTrials[gestureName]\n",
    "\n",
    "    trialNum = 1\n",
    "    for trial in gestureTrials:\n",
    "        axes[0][0].plot(trial.accel.x, alpha=0.7, label=\"Trial {}\".format(trialNum))\n",
    "        axes[0][1].plot(trial.accel.y, alpha=0.7, label=\"Trial {}\".format(trialNum))\n",
    "        axes[0][2].plot(trial.accel.z, alpha=0.7, label=\"Trial {}\".format(trialNum))\n",
    "        axes[0][3].plot(trial.accel.mag, alpha=0.7, label=\"Trial {}\".format(trialNum))\n",
    "        axes[1][0].plot(trial.gyro.x, alpha=0.7, label=\"Trial {}\".format(trialNum))\n",
    "        axes[1][1].plot(trial.gyro.y, alpha=0.7, label=\"Trial {}\".format(trialNum))\n",
    "        axes[1][2].plot(trial.gyro.z, alpha=0.7, label=\"Trial {}\".format(trialNum))\n",
    "        axes[1][3].plot(trial.gyro.mag, alpha=0.7, label=\"Trial {}\".format(trialNum))\n",
    "        trialNum = trialNum + 1\n",
    "\n",
    "    axes[0][0].set_title(gestureName + \" (Accel X)\")\n",
    "    axes[0][0].legend(loc='right')\n",
    "    axes[0][0].set(xlabel='Time (ms)', ylabel='Acceleration (m/s^2)')\n",
    "\n",
    "    axes[0][1].set_title(gestureName + \" (Accel Y)\")\n",
    "    axes[0][1].legend(loc='right')\n",
    "    axes[0][1].set(xlabel='Time (ms)', ylabel='Acceleration (m/s^2)')\n",
    "\n",
    "    axes[0][2].set_title(gestureName + \" (Accel Z)\")\n",
    "    axes[0][2].legend(loc='right')\n",
    "    axes[0][2].set(xlabel='Time (ms)', ylabel='Acceleration (m/s^2)')\n",
    "\n",
    "    axes[0][3].set_title(gestureName + \" (Accel Mag)\")\n",
    "    axes[0][3].legend(loc='right')\n",
    "    axes[0][3].set(xlabel='Time (ms)', ylabel='Acceleration (m/s^2)')\n",
    "\n",
    "    axes[1][0].set_title(gestureName + \" (Gyro X)\")\n",
    "    axes[1][0].legend(loc='right')\n",
    "    axes[1][0].set(xlabel='Time (ms)', ylabel='Acceleration (m/s^2)')\n",
    "\n",
    "    axes[1][1].set_title(gestureName + \" (Gyro Y)\")\n",
    "    axes[1][1].legend(loc='right')\n",
    "    axes[1][1].set(xlabel='Time (ms)', ylabel='Acceleration (m/s^2)')\n",
    "\n",
    "    axes[1][2].set_title(gestureName + \" (Gyro Z)\")\n",
    "    axes[1][2].legend(loc='right')\n",
    "    axes[1][2].set(xlabel='Time (ms)', ylabel='Acceleration (m/s^2)')\n",
    "\n",
    "    axes[1][3].set_title(gestureName + \" (Gyro Mag)\")\n",
    "    axes[1][3].legend(loc='right')\n",
    "    axes[1][3].set(xlabel='Time (ms)', ylabel='Acceleration (m/s^2)')\n",
    "\n",
    "ipywidgets.interact(DisplayDebugAccelVisualization, gestureName=sorted(mapGestureToTrials.keys()));\n",
    "ipywidgets.interact(DisplayDebugAccelVisualization, gestureName=sorted(mapGestureToTrials.keys()));\n"
   ]
  },
  {
   "cell_type": "code",
   "execution_count": 4,
   "metadata": {},
   "outputs": [
    {
     "data": {
      "application/vnd.jupyter.widget-view+json": {
       "model_id": "7b4a42754c784f2fabd7313d9ceab3b9",
       "version_major": 2,
       "version_minor": 0
      },
      "text/html": [
       "<p>Failed to display Jupyter Widget of type <code>interactive</code>.</p>\n",
       "<p>\n",
       "  If you're reading this message in the Jupyter Notebook or JupyterLab Notebook, it may mean\n",
       "  that the widgets JavaScript is still loading. If this message persists, it\n",
       "  likely means that the widgets JavaScript library is either not installed or\n",
       "  not enabled. See the <a href=\"https://ipywidgets.readthedocs.io/en/stable/user_install.html\">Jupyter\n",
       "  Widgets Documentation</a> for setup instructions.\n",
       "</p>\n",
       "<p>\n",
       "  If you're reading this message in another frontend (for example, a static\n",
       "  rendering on GitHub or <a href=\"https://nbviewer.jupyter.org/\">NBViewer</a>),\n",
       "  it may mean that your frontend doesn't currently support widgets.\n",
       "</p>\n"
      ],
      "text/plain": [
       "interactive(children=(Dropdown(description='gestureName', options=('JonGestureLogs_At Rest', 'JonGestureLogs_Backhand Tennis', 'JonGestureLogs_Baseball Throw', 'JonGestureLogs_Forehand Tennis', 'JonGestureLogs_Midair Clockwise O', 'JonGestureLogs_Midair Counter Clockwise O', 'JonGestureLogs_Midair S', 'JonGestureLogs_Midair Zorro Z', 'JonGestureLogs_Shake', 'JonGestureLogs_Underhand Bowling'), value='JonGestureLogs_At Rest'), Output()), _dom_classes=('widget-interact',))"
      ]
     },
     "metadata": {},
     "output_type": "display_data"
    },
    {
     "data": {
      "application/vnd.jupyter.widget-view+json": {
       "model_id": "4f02a1e03e594ff5aaa8bed02be2021b",
       "version_major": 2,
       "version_minor": 0
      },
      "text/html": [
       "<p>Failed to display Jupyter Widget of type <code>interactive</code>.</p>\n",
       "<p>\n",
       "  If you're reading this message in the Jupyter Notebook or JupyterLab Notebook, it may mean\n",
       "  that the widgets JavaScript is still loading. If this message persists, it\n",
       "  likely means that the widgets JavaScript library is either not installed or\n",
       "  not enabled. See the <a href=\"https://ipywidgets.readthedocs.io/en/stable/user_install.html\">Jupyter\n",
       "  Widgets Documentation</a> for setup instructions.\n",
       "</p>\n",
       "<p>\n",
       "  If you're reading this message in another frontend (for example, a static\n",
       "  rendering on GitHub or <a href=\"https://nbviewer.jupyter.org/\">NBViewer</a>),\n",
       "  it may mean that your frontend doesn't currently support widgets.\n",
       "</p>\n"
      ],
      "text/plain": [
       "interactive(children=(Dropdown(description='gestureName', options=('JonGestureLogs_At Rest', 'JonGestureLogs_Backhand Tennis', 'JonGestureLogs_Baseball Throw', 'JonGestureLogs_Forehand Tennis', 'JonGestureLogs_Midair Clockwise O', 'JonGestureLogs_Midair Counter Clockwise O', 'JonGestureLogs_Midair S', 'JonGestureLogs_Midair Zorro Z', 'JonGestureLogs_Shake', 'JonGestureLogs_Underhand Bowling'), value='JonGestureLogs_At Rest'), Output()), _dom_classes=('widget-interact',))"
      ]
     },
     "metadata": {},
     "output_type": "display_data"
    }
   ],
   "source": [
    "def DisplayDebugSpectrumVisualization(gestureName):\n",
    "    fig, axes = plt.subplots(nrows=4, ncols=4, figsize=(25, 15))\n",
    "    fig.subplots_adjust(hspace=0.5)\n",
    "\n",
    "    gestureTrials = mapGestureToTrials[gestureName]\n",
    "\n",
    "    for trial in gestureTrials:\n",
    "        axes[0][0].specgram(trial.accel.x, NFFT=64, Fs=50, noverlap=0, alpha=0.7)\n",
    "        axes[0][1].specgram(trial.accel.y, NFFT=64, Fs=50, noverlap=0, alpha=0.7)\n",
    "        axes[0][2].specgram(trial.accel.z, NFFT=64, Fs=50, noverlap=0, alpha=0.7)\n",
    "        axes[0][3].specgram(trial.accel.mag, NFFT=64, Fs=50, noverlap=0, alpha=0.7)\n",
    "        axes[1][0].specgram(trial.gyro.x, NFFT=64, Fs=50, noverlap=0, alpha=0.7)\n",
    "        axes[1][1].specgram(trial.gyro.y, NFFT=64, Fs=50, noverlap=0, alpha=0.7)\n",
    "        axes[1][2].specgram(trial.gyro.z, NFFT=64, Fs=50, noverlap=0, alpha=0.7)\n",
    "        axes[1][3].specgram(trial.gyro.mag, NFFT=64, Fs=50, noverlap=0, alpha=0.7)\n",
    "        axes[2][0].psd(trial.accel.x, NFFT=64, Fs=50, noverlap=0, alpha=0.7)\n",
    "        axes[2][1].psd(trial.accel.y, NFFT=64, Fs=50, noverlap=0, alpha=0.7)\n",
    "        axes[2][2].psd(trial.accel.z, NFFT=64, Fs=50, noverlap=0, alpha=0.7)\n",
    "        axes[2][3].psd(trial.accel.mag, NFFT=64, Fs=50, noverlap=0, alpha=0.7)\n",
    "        axes[3][0].psd(trial.gyro.x, NFFT=64, Fs=50, noverlap=0, alpha=0.7)\n",
    "        axes[3][1].psd(trial.gyro.y, NFFT=64, Fs=50, noverlap=0, alpha=0.7)\n",
    "        axes[3][2].psd(trial.gyro.z, NFFT=64, Fs=50, noverlap=0, alpha=0.7)\n",
    "        axes[3][3].psd(trial.gyro.mag, NFFT=64, Fs=50, noverlap=0, alpha=0.7)\n",
    "        \n",
    "    axes[0][0].set_title(gestureName + \" (Accel X)\")\n",
    "    axes[0][0].set(xlabel='Time', ylabel='Frequency')\n",
    "\n",
    "    axes[0][1].set_title(gestureName + \" (Accel Y)\")\n",
    "    axes[0][1].set(xlabel='Time', ylabel='Frequency')\n",
    "    \n",
    "    axes[0][2].set_title(gestureName + \" (Accel Z)\")\n",
    "    axes[0][2].set(xlabel='Time', ylabel='Frequency')\n",
    "    \n",
    "    axes[0][3].set_title(gestureName + \" (Accel Mag)\")\n",
    "    axes[0][3].set(xlabel='Time', ylabel='Frequency')\n",
    "    \n",
    "    axes[1][0].set_title(gestureName + \" (Gyro X)\")\n",
    "    axes[1][0].set(xlabel='Time', ylabel='Frequency')\n",
    "    \n",
    "    axes[1][1].set_title(gestureName + \" (Gyro Y)\")\n",
    "    axes[1][1].set(xlabel='Time', ylabel='Frequency')\n",
    "    \n",
    "    axes[1][2].set_title(gestureName + \" (Gyro Z)\")\n",
    "    axes[1][2].set(xlabel='Time', ylabel='Frequency')\n",
    "    \n",
    "    axes[1][3].set_title(gestureName + \" (Gyro Mag)\")\n",
    "    axes[1][3].set(xlabel='Time', ylabel='Frequency')\n",
    "    \n",
    "    axes[2][0].set_title(gestureName + \" (Accel X)\")\n",
    "    axes[2][0].set(xlabel='Frequency', ylabel='Spectral Density (dB/Hz)')\n",
    "    \n",
    "    axes[2][1].set_title(gestureName + \" (Accel Y)\")\n",
    "    axes[2][1].set(xlabel='Frequency', ylabel='Spectral Density (dB/Hz)')\n",
    "    \n",
    "    axes[2][2].set_title(gestureName + \" (Accel Z)\")\n",
    "    axes[2][2].set(xlabel='Frequency', ylabel='Spectral Density (dB/Hz)')\n",
    "    \n",
    "    axes[2][3].set_title(gestureName + \" (Accel Mag)\")\n",
    "    axes[2][3].set(xlabel='Frequency', ylabel='Spectral Density (dB/Hz)')\n",
    "    \n",
    "    axes[3][0].set_title(gestureName + \" (Gyro X)\")\n",
    "    axes[3][0].set(xlabel='Frequency', ylabel='Spectral Density (dB/Hz)')\n",
    "    \n",
    "    axes[3][1].set_title(gestureName + \" (Gyro Y)\")\n",
    "    axes[3][1].set(xlabel='Frequency', ylabel='Spectral Density (dB/Hz)')\n",
    "    \n",
    "    axes[3][2].set_title(gestureName + \" (Gyro Z)\")\n",
    "    axes[3][2].set(xlabel='Frequency', ylabel='Spectral Density (dB/Hz)')\n",
    "    \n",
    "    axes[3][3].set_title(gestureName + \" (Gyro Mag)\")\n",
    "    axes[3][3].set(xlabel='Frequency', ylabel='Spectral Density (dB/Hz)')\n",
    "    \n",
    "ipywidgets.interact(DisplayDebugSpectrumVisualization, gestureName=sorted(mapGestureToTrials.keys()));\n",
    "ipywidgets.interact(DisplayDebugSpectrumVisualization, gestureName=sorted(mapGestureToTrials.keys()));\n"
   ]
  },
  {
   "cell_type": "markdown",
   "metadata": {},
   "source": [
    "## Naive Matcher\n",
    "After looking at the Acceleration, gyroscope, and frequency domain information about the given gestures, we can start making a basic shap matcher to attempt to classify gestures.\n",
    "\n",
    "A simple smoothing pass is sufficient to get around 85+% accuracy.  This is, in part, because there is not likely to be a significant bias or trend over the course of gesture recording.\n",
    "\n",
    "The non-periodic nature of most of the gestures meant that full spectral plots also werent significantly indicative of a particular gesture except in the case of highly periodic gestures like \"shake\""
   ]
  },
  {
   "cell_type": "code",
   "execution_count": 5,
   "metadata": {},
   "outputs": [
    {
     "name": "stdout",
     "output_type": "stream",
     "text": [
      "JonGestureLogs_Shake 3.0/5.0 (60.0%)\n",
      "JonGestureLogs_Midair S 5.0/5.0 (100.0%)\n",
      "JonGestureLogs_Midair Clockwise O 5.0/5.0 (100.0%)\n",
      "JonGestureLogs_At Rest 5.0/5.0 (100.0%)\n",
      "JonGestureLogs_Midair Counter Clockwise O 5.0/5.0 (100.0%)\n",
      "JonGestureLogs_Midair Zorro Z 4.0/5.0 (80.0%)\n",
      "JonGestureLogs_Backhand Tennis 5.0/5.0 (100.0%)\n",
      "JonGestureLogs_Underhand Bowling 3.0/5.0 (60.0%)\n",
      "JonGestureLogs_Forehand Tennis 5.0/5.0 (100.0%)\n",
      "JonGestureLogs_Baseball Throw 5.0/5.0 (100.0%)\n",
      "45.0 of 50.0 correct: 0.9%\n"
     ]
    },
    {
     "data": {
      "image/png": "[encoded data removed]",
      "text/plain": [
       "<matplotlib.figure.Figure at 0x7f9cb583d518>"
      ]
     },
     "metadata": {},
     "output_type": "display_data"
    }
   ],
   "source": [
    "def Smooth(arr, factor=15):\n",
    "    \"\"\" From: http://scipy-cookbook.readthedocs.io/items/SignalSmooth.html\"\"\"\n",
    "    s = np.r_[arr[factor-1:0:-1], arr, arr[-2:-factor-1:-1]]\n",
    "    w = np.ones(factor, 'd')\n",
    "    return np.convolve(w/w.sum(), s, mode='valid')\n",
    "\n",
    "def DiffAxis(first, second):\n",
    "    \"\"\"Calculate the diff between two raw numpy arrays\"\"\"\n",
    "    #Smooth the signals:\n",
    "    first = Smooth(first)\n",
    "    second = Smooth(second)\n",
    "   \n",
    "    first = first / np.linalg.norm(first)\n",
    "    second = second / np.linalg.norm(second)\n",
    "    return scipy.spatial.distance.euclidean(first, second)\n",
    "\n",
    "\n",
    "def CalculateDifference(trial1, trial2):\n",
    "    \"\"\"Calculates the difference between two Trial objects.\"\"\"\n",
    "    diff = 0.0\n",
    "    diff += DiffAxis(trial1.accel.x, trial2.accel.x)\n",
    "    diff += DiffAxis(trial1.accel.y, trial2.accel.y)\n",
    "    diff += DiffAxis(trial1.accel.z, trial2.accel.z)\n",
    "    diff += DiffAxis(trial1.accel.mag, trial2.accel.mag)\n",
    "    diff += DiffAxis(trial1.accel.x, trial2.accel.x)\n",
    "    diff += DiffAxis(trial1.accel.y, trial2.accel.y)\n",
    "    diff += DiffAxis(trial1.accel.z, trial2.accel.z)\n",
    "    diff += DiffAxis(trial1.accel.mag, trial2.accel.mag)\n",
    "    \n",
    "    return diff\n",
    "\n",
    "\n",
    "def Match(trial, candidates):\n",
    "    \"\"\"Determines the activity label for a given trial.\"\"\"\n",
    "    minDiff = 100000000000000.0  # A very large number\n",
    "    match = None\n",
    "    for candidate in candidates:\n",
    "        diff = CalculateDifference(trial, candidate)\n",
    "        if diff < minDiff:\n",
    "            minDiff = diff\n",
    "            match = candidate\n",
    "    return 'UNKNOWN' if not match else match.gestureName\n",
    "\n",
    "\n",
    "def PrintResults(results):\n",
    "    correct = 0.0\n",
    "    total = 0.0\n",
    "    for truth, prediction_list in results.items():\n",
    "        label = truth\n",
    "        local_correct = 0.\n",
    "        local_total = 0.\n",
    "        for prediction in prediction_list:\n",
    "            total += 1.0\n",
    "            local_total += 1.0\n",
    "            if truth == prediction:\n",
    "                correct += 1.0\n",
    "                local_correct += 1.0\n",
    "            \n",
    "        print ('{} {}/{} ({}%)'.format(truth, local_correct, local_total, (local_correct / local_total * 100)))\n",
    "                \n",
    "    print('{} of {} correct: {}%'.format(correct, total, (correct / total)))    \n",
    "\n",
    "\n",
    "def PlotConfusionMatrix(results,normalize=False,\n",
    "                          title='Confusion matrix',\n",
    "                          cmap=plt.cm.Blues):\n",
    "    \"\"\"\n",
    "    This function prints and plots the confusion matrix.\n",
    "    Normalization can be applied by setting `normalize=True`.\n",
    "    \"\"\"\n",
    "    true_values = []\n",
    "    predictions = []\n",
    "    labels = set()\n",
    "\n",
    "    for truth, prediction_list in results.items():\n",
    "        for prediction in prediction_list:\n",
    "            true_values.append(truth)\n",
    "            predictions.append(prediction)\n",
    "            labels.add(truth)\n",
    "            labels.add(prediction)\n",
    "                \n",
    "    labels = list(labels)\n",
    "    \n",
    "    cm = confusion_matrix(true_values, predictions, labels)\n",
    "    if normalize:\n",
    "        cm = cm.astype('float') / cm.sum(axis=1)[:, np.newaxis]\n",
    "\n",
    "    plt.figure(figsize=(10, 10))\n",
    "    plt.imshow(cm, interpolation='nearest', cmap=cmap)\n",
    "    plt.title(title)\n",
    "    plt.colorbar()\n",
    "    tick_marks = np.arange(len(labels))\n",
    "    plt.xticks(tick_marks, labels, rotation=90)\n",
    "    plt.yticks(tick_marks, labels)\n",
    "\n",
    "    fmt = '.2f' if normalize else 'd'\n",
    "    thresh = cm.max() / 2.\n",
    "    for i, j in itertools.product(range(cm.shape[0]), range(cm.shape[1])):\n",
    "        plt.text(j, i, format(cm[i, j], fmt),\n",
    "                 horizontalalignment=\"center\",\n",
    "                 color=\"white\" if cm[i, j] > thresh else \"black\")\n",
    "\n",
    "    plt.tight_layout()\n",
    "    plt.ylabel('True label')\n",
    "    plt.xlabel('Predicted label')\n",
    "    plt.show()\n",
    "\n",
    "# Run the test.\n",
    "def Test(trials, k=5):\n",
    "    # Create the randomized k-fold.\n",
    "    flat_list = [trial for trials in trials.values() for trial in trials]\n",
    "    random.shuffle(flat_list)\n",
    "    results = {}\n",
    "    \n",
    "    folds = {\n",
    "        1: flat_list[:10],\n",
    "        2: flat_list[10:20],\n",
    "        3: flat_list[20:30],\n",
    "        4: flat_list[30:40],\n",
    "        5: flat_list[40:],\n",
    "    }\n",
    "\n",
    "    for fold, trial_list in folds.items():\n",
    "        training_data = []\n",
    "        for i, training_trials in folds.items():\n",
    "            if i == fold:\n",
    "                continue\n",
    "            training_data.extend(training_trials)\n",
    "        for trial in trial_list:\n",
    "            if trial.gestureName not in results:\n",
    "                results[trial.gestureName] = []\n",
    "            results[trial.gestureName].append(Match(trial, training_data))\n",
    "    return results\n",
    "\n",
    "jonResults = Test(jonTrials)\n",
    "PrintResults(jonResults)\n",
    "PlotConfusionMatrix(jonResults)\n",
    "\n",
    "#myResults = Test(myTrials)\n",
    "#PrintResults(myResults)\n",
    "#PlotConfusionMatrix(myResults)"
   ]
  },
  {
   "cell_type": "markdown",
   "metadata": {},
   "source": [
    "## Model Approach\n",
    "Rather than just using shape matching, we now attempt to build a basic machine learning model that we can use to try to determine the gesture in question."
   ]
  },
  {
   "cell_type": "code",
   "execution_count": null,
   "metadata": {},
   "outputs": [],
   "source": []
  },
  {
   "cell_type": "markdown",
   "metadata": {},
   "source": [
    "# Sandbox\n",
    "Everything below here is a Sandbox for you to play. You could do this in another Jupyter Notebook but I often have some cells at the bottom of my notebook that let's me experiment with and play with Python and the numpy, scipy, etc. libraries. I've added some example playground cells that I used when making the assignment.\n",
    "\n",
    "Feel free to delete all of these cells but I thought they might be informative for you."
   ]
  },
  {
   "cell_type": "code",
   "execution_count": 6,
   "metadata": {},
   "outputs": [
    {
     "name": "stdout",
     "output_type": "stream",
     "text": [
      "(array([0, 2]),)\n",
      "['apple' 'apple']\n"
     ]
    }
   ],
   "source": [
    "# Testing to see if the numpy 'where' method supports string matching\n",
    "a = np.array(['apple', 'orange', 'apple', 'banana'])\n",
    "\n",
    "indicesWhereThereAreApples = np.where(a == 'apple')\n",
    "\n",
    "print (indicesWhereThereAreApples)\n",
    "print (a[indicesWhereThereAreApples])"
   ]
  },
  {
   "cell_type": "code",
   "execution_count": 7,
   "metadata": {},
   "outputs": [
    {
     "name": "stdout",
     "output_type": "stream",
     "text": [
      "5\n",
      "7\n"
     ]
    },
    {
     "data": {
      "text/plain": [
       "{'newVar': 7, 'testVar': 5}"
      ]
     },
     "execution_count": 7,
     "metadata": {},
     "output_type": "execute_result"
    }
   ],
   "source": [
    "# Playing around with classes in Python 3. Notice how just like in Javascript, you can add a new member variable\n",
    "# just by starting to use it!\n",
    "\n",
    "class DummyClass:\n",
    "    def __init__(self, variable):\n",
    "        self.testVar = variable\n",
    "        \n",
    "\n",
    "dummy = DummyClass(5)\n",
    "print(dummy.testVar)\n",
    "dummy.newVar = 7 # added a new member variable called newVar here. Cool!\n",
    "print(dummy.newVar)\n",
    "vars(dummy) # prints out the member variables of the class"
   ]
  },
  {
   "cell_type": "code",
   "execution_count": 8,
   "metadata": {},
   "outputs": [
    {
     "name": "stdout",
     "output_type": "stream",
     "text": [
      "(1, 2, 3, 4, 5, 6, 7, 8, 9, 10)\n",
      "1 2 3 4 5 6 7 8 9 10\n",
      "6 7 8 9 10\n"
     ]
    }
   ],
   "source": [
    "# Experimenting with how folding and unfolding tuples work\n",
    "testTuple = (1,2,3,4,5,6,7,8,9,10)\n",
    "print(testTuple)\n",
    "print(*testTuple)\n",
    "print(*testTuple[5:])"
   ]
  },
  {
   "cell_type": "code",
   "execution_count": 9,
   "metadata": {},
   "outputs": [
    {
     "name": "stdout",
     "output_type": "stream",
     "text": [
      "['a', 'c', 'd']\n",
      "['c', 'd', 'a']\n",
      "['c', 'a']\n"
     ]
    }
   ],
   "source": [
    "# Experimenting with how we delete things out of lists\n",
    "import random\n",
    "testDict = {\"a\":1, \"c\":3, \"d\":4}\n",
    "a = list(testDict.keys())\n",
    "print(a)\n",
    "random.shuffle(a)\n",
    "print(a)\n",
    "del a[1]\n",
    "print(a)"
   ]
  },
  {
   "cell_type": "code",
   "execution_count": 10,
   "metadata": {},
   "outputs": [
    {
     "name": "stdout",
     "output_type": "stream",
     "text": [
      "[1, 2, 3, 4]\n",
      "[1, 2, 3, 5]\n",
      "[4, 5]\n",
      "[1, 2, 3]\n"
     ]
    }
   ],
   "source": [
    "# Playing around with how we can split up and combine lists in Python\n",
    "testList = [1, 2, 3, 4, 5]\n",
    "index = 4\n",
    "print(testList[0:index] + testList[index + 1:5])\n",
    "\n",
    "index = 3\n",
    "print(testList[0:index] + testList[index + 1:5])\n",
    "\n",
    "print(testList[index:])\n",
    "print(testList[:index])"
   ]
  },
  {
   "cell_type": "code",
   "execution_count": 11,
   "metadata": {},
   "outputs": [
    {
     "data": {
      "text/plain": [
       "array([ 0,  0, -1, -5, -5])"
      ]
     },
     "execution_count": 11,
     "metadata": {},
     "output_type": "execute_result"
    }
   ],
   "source": [
    "# playing around with numpy subtraction. In order for these operations to work\n",
    "# the arrays must be of the same size\n",
    "np1 = np.array([1, 2, 3, 4, 5])\n",
    "np2 = np.array([1, 2, 4, 5, 5])\n",
    "np2 - np1\n",
    "\n",
    "np3 = [1, 2, 3]\n",
    "\n",
    "# the (0,2) value tells pad to pad 0 times in the front of array\n",
    "# and three times to the end of array. See: https://docs.scipy.org/doc/numpy/reference/generated/numpy.pad.html\n",
    "np3_resized = np.pad(np3, (0, 2), 'constant', constant_values=0)\n",
    "np3_resized - np2"
   ]
  },
  {
   "cell_type": "code",
   "execution_count": 12,
   "metadata": {},
   "outputs": [
    {
     "name": "stdout",
     "output_type": "stream",
     "text": [
      "6.324555320336759\n",
      "6.324555320336759\n"
     ]
    }
   ],
   "source": [
    "# Find Euclidean distance between two numpy vector arrays\n",
    "np1 = np.array([1, 2, 3, 4, 5])\n",
    "np2 = np.array([5, 4, 3, 2, 1])\n",
    "\n",
    "# First, we'll try numpy's way of determining Euclidean distance\n",
    "# See: https://stackoverflow.com/a/1401828\n",
    "npDist = np.linalg.norm(np2 - np1)\n",
    "print(npDist)\n",
    "\n",
    "# Next, we'll try scipy's way\n",
    "# See: https://stackoverflow.com/a/21986532\n",
    "from scipy.spatial import distance\n",
    "\n",
    "scipyDist = distance.euclidean(np2,np1)\n",
    "print(scipyDist)"
   ]
  },
  {
   "cell_type": "code",
   "execution_count": 13,
   "metadata": {},
   "outputs": [
    {
     "name": "stdout",
     "output_type": "stream",
     "text": [
      "[14.99593782 35.47804328 45.76245397  7.35493242 40.8102106   0.13069975\n",
      " 32.34686638 43.3082785  17.20664136  4.45238187  0.50645493 49.80903666\n",
      " 42.72859192 11.32618604 36.91156045 17.98851968 42.60105075 25.31838143\n",
      " 26.83719139 12.55049466 47.18293188  0.34329845 30.69643925 46.27855209\n",
      " 45.87483338 43.04306842 37.13474843  3.85241984 41.90713242 16.51774836\n",
      " 25.74364811 11.82138116 47.44559992 12.00766461 14.51940659 41.33039981\n",
      "  8.3334446  22.40567996 16.16838421 21.54298111 13.81095293  5.50271901\n",
      "  1.00458858  7.7701641  10.00173195 25.84981678 43.38027199 11.11170874\n",
      "  3.39074116 23.9892534 ]\n"
     ]
    },
    {
     "data": {
      "text/plain": [
       "<matplotlib.legend.Legend at 0x7f9cb583d2e8>"
      ]
     },
     "execution_count": 13,
     "metadata": {},
     "output_type": "execute_result"
    },
    {
     "data": {
      "image/png": "[encoded data removed]",
      "text/plain": [
       "<matplotlib.figure.Figure at 0x7f9cb5935898>"
      ]
     },
     "metadata": {},
     "output_type": "display_data"
    }
   ],
   "source": [
    "# detrend playground\n",
    "from scipy import signal\n",
    "a = np.random.rand(50) * 50\n",
    "print(a)\n",
    "b = np.array(range(0,50))\n",
    "c = a + b\n",
    "\n",
    "fig, axes = plt.subplots()\n",
    "#axes.plot(a)\n",
    "#axes.plot(b)\n",
    "axes.plot(c, label=\"c (avg={:0.1f})\".format(np.mean(c)))\n",
    "c_detrended = signal.detrend(c)\n",
    "axes.plot(c_detrended, label=\"c_detrended (avg={:0.1f})\".format(np.mean(c_detrended)))\n",
    "axes.legend()\n"
   ]
  },
  {
   "cell_type": "code",
   "execution_count": 14,
   "metadata": {},
   "outputs": [
    {
     "name": "stdout",
     "output_type": "stream",
     "text": [
      "Confusion matrix, without normalization\n",
      "[[2 0 0]\n",
      " [0 1 1]\n",
      " [1 0 2]]\n",
      "Normalized confusion matrix\n",
      "[[1.         0.         0.        ]\n",
      " [0.         0.5        0.5       ]\n",
      " [0.33333333 0.         0.66666667]]\n"
     ]
    },
    {
     "data": {
      "image/png": "[encoded data removed]",
      "text/plain": [
       "<matplotlib.figure.Figure at 0x7f9cb5b86ac8>"
      ]
     },
     "metadata": {},
     "output_type": "display_data"
    },
    {
     "data": {
      "image/png": "[encoded data removed]",
      "text/plain": [
       "<matplotlib.figure.Figure at 0x7f9cb5b5a208>"
      ]
     },
     "metadata": {},
     "output_type": "display_data"
    }
   ],
   "source": [
    "# Playing around with plotting confusion matrices\n",
    "# From: http://scikit-learn.org/stable/auto_examples/model_selection/plot_confusion_matrix.html#sphx-glr-auto-examples-model-selection-plot-confusion-matrix-py\n",
    "def plot_confusion_matrix(cm, classes,\n",
    "                          normalize=False,\n",
    "                          title='Confusion matrix',\n",
    "                          cmap=plt.cm.Blues):\n",
    "    \"\"\"\n",
    "    This function prints and plots the confusion matrix.\n",
    "    Normalization can be applied by setting `normalize=True`.\n",
    "    \"\"\"\n",
    "    if normalize:\n",
    "        cm = cm.astype('float') / cm.sum(axis=1)[:, np.newaxis]\n",
    "        print(\"Normalized confusion matrix\")\n",
    "    else:\n",
    "        print('Confusion matrix, without normalization')\n",
    "\n",
    "    print(cm)\n",
    "\n",
    "    plt.imshow(cm, interpolation='nearest', cmap=cmap)\n",
    "    plt.title(title)\n",
    "    plt.colorbar()\n",
    "    tick_marks = np.arange(len(classes))\n",
    "    plt.xticks(tick_marks, classes, rotation=90)\n",
    "    plt.yticks(tick_marks, classes)\n",
    "\n",
    "    fmt = '.2f' if normalize else 'd'\n",
    "    thresh = cm.max() / 2.\n",
    "    for i, j in itertools.product(range(cm.shape[0]), range(cm.shape[1])):\n",
    "        plt.text(j, i, format(cm[i, j], fmt),\n",
    "                 horizontalalignment=\"center\",\n",
    "                 color=\"white\" if cm[i, j] > thresh else \"black\")\n",
    "\n",
    "    plt.tight_layout()\n",
    "    plt.ylabel('True label')\n",
    "    plt.xlabel('Predicted label')\n",
    "    \n",
    "y_true = [\"cat\", \"ant\", \"cat\", \"cat\", \"ant\", \"bird\", \"bird\"]\n",
    "y_pred = [\"ant\", \"ant\", \"cat\", \"cat\", \"ant\", \"cat\", \"bird\"]\n",
    "labels=[\"ant\", \"bird\", \"cat\"]\n",
    "cm = confusion_matrix(y_true, y_pred, labels)\n",
    "plt.figure()\n",
    "plot_confusion_matrix(cm, classes=labels,\n",
    "                      title='Confusion matrix (without normalization)')\n",
    "\n",
    "plt.figure()\n",
    "plot_confusion_matrix(cm, classes=labels, normalize=True,\n",
    "                      title='Confusion matrix (with normalization)')\n",
    "plt.show()"
   ]
  },
  {
   "cell_type": "markdown",
   "metadata": {},
   "source": [
    "## Experiments and Trials\n",
    "This is some backmatter for recording different experiments with respect to data processing and model training."
   ]
  },
  {
   "cell_type": "code",
   "execution_count": 15,
   "metadata": {},
   "outputs": [
    {
     "data": {
      "application/vnd.jupyter.widget-view+json": {
       "model_id": "ec9d8db8d8e549eda3b9c5f9160c257a",
       "version_major": 2,
       "version_minor": 0
      },
      "text/html": [
       "<p>Failed to display Jupyter Widget of type <code>interactive</code>.</p>\n",
       "<p>\n",
       "  If you're reading this message in the Jupyter Notebook or JupyterLab Notebook, it may mean\n",
       "  that the widgets JavaScript is still loading. If this message persists, it\n",
       "  likely means that the widgets JavaScript library is either not installed or\n",
       "  not enabled. See the <a href=\"https://ipywidgets.readthedocs.io/en/stable/user_install.html\">Jupyter\n",
       "  Widgets Documentation</a> for setup instructions.\n",
       "</p>\n",
       "<p>\n",
       "  If you're reading this message in another frontend (for example, a static\n",
       "  rendering on GitHub or <a href=\"https://nbviewer.jupyter.org/\">NBViewer</a>),\n",
       "  it may mean that your frontend doesn't currently support widgets.\n",
       "</p>\n"
      ],
      "text/plain": [
       "interactive(children=(Dropdown(description='gestureName', options=('JonGestureLogs_At Rest', 'JonGestureLogs_Backhand Tennis', 'JonGestureLogs_Baseball Throw', 'JonGestureLogs_Forehand Tennis', 'JonGestureLogs_Midair Clockwise O', 'JonGestureLogs_Midair Counter Clockwise O', 'JonGestureLogs_Midair S', 'JonGestureLogs_Midair Zorro Z', 'JonGestureLogs_Shake', 'JonGestureLogs_Underhand Bowling'), value='JonGestureLogs_At Rest'), Output()), _dom_classes=('widget-interact',))"
      ]
     },
     "metadata": {},
     "output_type": "display_data"
    },
    {
     "data": {
      "application/vnd.jupyter.widget-view+json": {
       "model_id": "3575982be9a741fabc6048e2d81c50b6",
       "version_major": 2,
       "version_minor": 0
      },
      "text/html": [
       "<p>Failed to display Jupyter Widget of type <code>interactive</code>.</p>\n",
       "<p>\n",
       "  If you're reading this message in the Jupyter Notebook or JupyterLab Notebook, it may mean\n",
       "  that the widgets JavaScript is still loading. If this message persists, it\n",
       "  likely means that the widgets JavaScript library is either not installed or\n",
       "  not enabled. See the <a href=\"https://ipywidgets.readthedocs.io/en/stable/user_install.html\">Jupyter\n",
       "  Widgets Documentation</a> for setup instructions.\n",
       "</p>\n",
       "<p>\n",
       "  If you're reading this message in another frontend (for example, a static\n",
       "  rendering on GitHub or <a href=\"https://nbviewer.jupyter.org/\">NBViewer</a>),\n",
       "  it may mean that your frontend doesn't currently support widgets.\n",
       "</p>\n"
      ],
      "text/plain": [
       "interactive(children=(Dropdown(description='gestureName', options=('JonGestureLogs_At Rest', 'JonGestureLogs_Backhand Tennis', 'JonGestureLogs_Baseball Throw', 'JonGestureLogs_Forehand Tennis', 'JonGestureLogs_Midair Clockwise O', 'JonGestureLogs_Midair Counter Clockwise O', 'JonGestureLogs_Midair S', 'JonGestureLogs_Midair Zorro Z', 'JonGestureLogs_Shake', 'JonGestureLogs_Underhand Bowling'), value='JonGestureLogs_At Rest'), Output()), _dom_classes=('widget-interact',))"
      ]
     },
     "metadata": {},
     "output_type": "display_data"
    }
   ],
   "source": [
    "def DisplayDebugAccelVisualization(gestureName):\n",
    "    fig, axes = plt.subplots(nrows=2, ncols=4, figsize=(25, 10))\n",
    "    fig.subplots_adjust(hspace=0.5)\n",
    "\n",
    "    gestureTrials = mapGestureToTrials[gestureName]\n",
    "    \n",
    "    avg_x = np.zeros([len(gestureTrials[0].accel.x)], dtype=float)\n",
    "    avg_y = np.zeros([len(gestureTrials[0].accel.y)], dtype=float)\n",
    "    avg_z = np.zeros([len(gestureTrials[0].accel.z)], dtype=float)\n",
    "    for trial in gestureTrials:\n",
    "        avg_x += trial.accel.x\n",
    "        avg_y += trial.accel.y\n",
    "        avg_z += trial.accel.z\n",
    "\n",
    "    avg_x = avg_x / len(gestureTrials)\n",
    "    avg_y = avg_y / len(gestureTrials)\n",
    "    avg_z = avg_z / len(gestureTrials)\n",
    "    axes[0][0].plot(avg_x / np.linalg.norm(avg_x), alpha=0.9, label=\"Average\")\n",
    "    axes[0][1].plot(avg_y / np.linalg.norm(avg_y), alpha=0.9, label=\"Average\")\n",
    "    axes[0][2].plot(avg_z / np.linalg.norm(avg_z), alpha=0.9, label=\"Average\")   \n",
    "\n",
    "    trialNum = 1\n",
    "    for trial in gestureTrials:\n",
    "        axes[0][0].plot(trial.accel.x / np.linalg.norm(trial.accel.x),\n",
    "                        alpha=0.3, label=\"Trial {}\".format(trialNum))\n",
    "        axes[0][1].plot(trial.accel.y / np.linalg.norm(trial.accel.y),\n",
    "                        alpha=0.3, label=\"Trial {}\".format(trialNum))\n",
    "        axes[0][2].plot(trial.accel.z / np.linalg.norm(trial.accel.z),\n",
    "                        alpha=0.3, label=\"Trial {}\".format(trialNum))\n",
    "        axes[0][3].plot(trial.accel.mag / np.linalg.norm(trial.accel.mag),\n",
    "                        alpha=0.7, label=\"Trial {}\".format(trialNum))\n",
    "        axes[1][0].plot(np.gradient(trial.accel.x), alpha=0.7, label=\"Trial {}\".format(trialNum))\n",
    "        axes[1][1].plot(np.gradient(trial.accel.y), alpha=0.7, label=\"Trial {}\".format(trialNum))\n",
    "        axes[1][2].plot(np.gradient(trial.accel.z), alpha=0.7, label=\"Trial {}\".format(trialNum))\n",
    "        axes[1][3].plot(np.gradient(trial.accel.mag), alpha=0.7, label=\"Trial {}\".format(trialNum))\n",
    "        trialNum = trialNum + 1\n",
    "\n",
    "    axes[0][0].set_title(gestureName + \" (Accel X)\")\n",
    "    axes[0][0].legend(loc='right')\n",
    "    axes[0][0].set(xlabel='Time (ms)', ylabel='Acceleration (m/s^2)')\n",
    "\n",
    "    axes[0][1].set_title(gestureName + \" (Accel Y)\")\n",
    "    axes[0][1].legend(loc='right')\n",
    "    axes[0][1].set(xlabel='Time (ms)', ylabel='Acceleration (m/s^2)')\n",
    "\n",
    "    axes[0][2].set_title(gestureName + \" (Accel Z)\")\n",
    "    axes[0][2].legend(loc='right')\n",
    "    axes[0][2].set(xlabel='Time (ms)', ylabel='Acceleration (m/s^2)')\n",
    "\n",
    "    axes[0][3].set_title(gestureName + \" (Accel Mag)\")\n",
    "    axes[0][3].legend(loc='right')\n",
    "    axes[0][3].set(xlabel='Time (ms)', ylabel='Acceleration (m/s^2)')\n",
    "\n",
    "    axes[1][0].set_title(gestureName + \" (Gyro X)\")\n",
    "    axes[1][0].legend(loc='right')\n",
    "    axes[1][0].set(xlabel='Time (ms)', ylabel='Acceleration (m/s^2)')\n",
    "\n",
    "    axes[1][1].set_title(gestureName + \" (Gyro Y)\")\n",
    "    axes[1][1].legend(loc='right')\n",
    "    axes[1][1].set(xlabel='Time (ms)', ylabel='Acceleration (m/s^2)')\n",
    "\n",
    "    axes[1][2].set_title(gestureName + \" (Gyro Z)\")\n",
    "    axes[1][2].legend(loc='right')\n",
    "    axes[1][2].set(xlabel='Time (ms)', ylabel='Acceleration (m/s^2)')\n",
    "\n",
    "    axes[1][3].set_title(gestureName + \" (Gyro Mag)\")\n",
    "    axes[1][3].legend(loc='right')\n",
    "    axes[1][3].set(xlabel='Time (ms)', ylabel='Acceleration (m/s^2)')\n",
    "\n",
    "ipywidgets.interact(DisplayDebugAccelVisualization, gestureName=sorted(mapGestureToTrials.keys()));\n",
    "ipywidgets.interact(DisplayDebugAccelVisualization, gestureName=sorted(mapGestureToTrials.keys()));\n"
   ]
  },
  {
   "cell_type": "code",
   "execution_count": null,
   "metadata": {},
   "outputs": [],
   "source": []
  }
 ],
 "metadata": {
  "kernelspec": {
   "display_name": "Python 3",
   "language": "python",
   "name": "python3"
  },
  "language_info": {
   "codemirror_mode": {
    "name": "ipython",
    "version": 3
   },
   "file_extension": ".py",
   "mimetype": "text/x-python",
   "name": "python",
   "nbconvert_exporter": "python",
   "pygments_lexer": "ipython3",
   "version": "3.6.4"
  }
 },
 "nbformat": 4,
 "nbformat_minor": 2
}
